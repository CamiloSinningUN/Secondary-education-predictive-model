{
  "cells": [
    {
      "cell_type": "markdown",
      "source": [
        "# **Modelo predictivo**\n",
        "\n",
        "**Integrantes:**\n",
        "\n",
        "**Juan David Julio San Juan**\n",
        "\n",
        "**Camilo José Sinning López**\n",
        "\n",
        "\n",
        "Este modelo tomará como entradas el nombre del departamento y la aprobación en eduación media de esta para predecir deserción alta o baja a travez de un modelo de regresión logistica."
      ],
      "metadata": {
        "id": "g808gAXKvJgA"
      }
    },
    {
      "cell_type": "markdown",
      "source": [
        "## **Se carga la base de datos**"
      ],
      "metadata": {
        "id": "9LE13a-ewAhE"
      }
    },
    {
      "cell_type": "code",
      "execution_count": null,
      "metadata": {
        "id": "oJKcnmx5pXT2"
      },
      "outputs": [],
      "source": [
        "import pandas as pd"
      ]
    },
    {
      "cell_type": "code",
      "execution_count": null,
      "metadata": {
        "id": "QJgg2CUIb_1W"
      },
      "outputs": [],
      "source": [
        "df = pd.read_csv('MEN_ESTADISTICAS_EN_EDUCACION_EN_PREESCOLAR__B_SICA_Y_MEDIA_POR_MUNICIPIO.csv')"
      ]
    },
    {
      "cell_type": "code",
      "execution_count": null,
      "metadata": {
        "colab": {
          "base_uri": "https://localhost:8080/"
        },
        "id": "6tFZEmgMcCK6",
        "outputId": "affc6045-13a7-4054-ba3e-30fc067e5bf2"
      },
      "outputs": [
        {
          "output_type": "stream",
          "name": "stdout",
          "text": [
            "<class 'pandas.core.frame.DataFrame'>\n",
            "RangeIndex: 11219 entries, 0 to 11218\n",
            "Data columns (total 41 columns):\n",
            " #   Column                       Non-Null Count  Dtype  \n",
            "---  ------                       --------------  -----  \n",
            " 0   AÑO                          11219 non-null  int64  \n",
            " 1   CÓDIGO_MUNICIPIO             11219 non-null  int64  \n",
            " 2   MUNICIPIO                    11219 non-null  object \n",
            " 3   CÓDIGO_DEPARTAMENTO          11219 non-null  int64  \n",
            " 4   DEPARTAMENTO                 11219 non-null  object \n",
            " 5   CÓDIGO_ETC                   11219 non-null  int64  \n",
            " 6   ETC                          11219 non-null  object \n",
            " 7   POBLACIÓN_5_16               11213 non-null  float64\n",
            " 8   TASA_MATRICULACIÓN_5_16      11104 non-null  float64\n",
            " 9   COBERTURA_NETA               11108 non-null  float64\n",
            " 10  COBERTURA_NETA_TRANSICIÓN    11167 non-null  float64\n",
            " 11  COBERTURA_NETA_PRIMARIA      11128 non-null  float64\n",
            " 12  COBERTURA_NETA_SECUNDARIA    11125 non-null  float64\n",
            " 13  COBERTURA_NETA_MEDIA         11126 non-null  float64\n",
            " 14  COBERTURA_BRUTA              11151 non-null  float64\n",
            " 15  COBERTURA_BRUTA_TRANSICIÓN   11122 non-null  float64\n",
            " 16  COBERTURA_BRUTA_PRIMARIA     11138 non-null  float64\n",
            " 17  COBERTURA_BRUTA_SECUNDARIA   11131 non-null  float64\n",
            " 18  COBERTURA_BRUTA_MEDIA        11092 non-null  float64\n",
            " 19  TAMAÑO_PROMEDIO_DE_GRUPO     7572 non-null   float64\n",
            " 20  SEDES_CONECTADAS_A_INTERNET  7768 non-null   float64\n",
            " 21  DESERCIÓN                    11077 non-null  float64\n",
            " 22  DESERCIÓN_TRANSICIÓN         10316 non-null  float64\n",
            " 23  DESERCIÓN_PRIMARIA           10977 non-null  float64\n",
            " 24  DESERCIÓN_SECUNDARIA         10949 non-null  float64\n",
            " 25  DESERCIÓN_MEDIA              10485 non-null  float64\n",
            " 26  APROBACIÓN                   11194 non-null  float64\n",
            " 27  APROBACIÓN_TRANSICIÓN        11194 non-null  float64\n",
            " 28  APROBACIÓN_PRIMARIA          11194 non-null  float64\n",
            " 29  APROBACIÓN_SECUNDARIA        11165 non-null  float64\n",
            " 30  APROBACIÓN_MEDIA             11118 non-null  float64\n",
            " 31  REPROBACIÓN                  11133 non-null  float64\n",
            " 32  REPROBACIÓN_TRANSICIÓN       11126 non-null  float64\n",
            " 33  REPROBACIÓN_PRIMARIA         11122 non-null  float64\n",
            " 34  REPROBACIÓN_SECUNDARIA       11113 non-null  float64\n",
            " 35  REPROBACIÓN_MEDIA            11074 non-null  float64\n",
            " 36  REPITENCIA                   11076 non-null  float64\n",
            " 37  REPITENCIA_TRANSICIÓN        11060 non-null  float64\n",
            " 38  REPITENCIA_PRIMARIA          11071 non-null  float64\n",
            " 39  REPITENCIA_SECUNDARIA        11067 non-null  float64\n",
            " 40  REPITENCIA_MEDIA             11080 non-null  float64\n",
            "dtypes: float64(34), int64(4), object(3)\n",
            "memory usage: 3.5+ MB\n"
          ]
        }
      ],
      "source": [
        "df.info()"
      ]
    },
    {
      "cell_type": "code",
      "execution_count": null,
      "metadata": {
        "id": "1bFqsLBoc1Hk",
        "colab": {
          "base_uri": "https://localhost:8080/"
        },
        "outputId": "7169751d-688a-495e-d858-a63120f4a1b2"
      },
      "outputs": [
        {
          "output_type": "execute_result",
          "data": {
            "text/plain": [
              "Index(['AÑO', 'CÓDIGO_MUNICIPIO', 'MUNICIPIO', 'CÓDIGO_DEPARTAMENTO',\n",
              "       'DEPARTAMENTO', 'CÓDIGO_ETC', 'ETC', 'POBLACIÓN_5_16',\n",
              "       'TASA_MATRICULACIÓN_5_16', 'COBERTURA_NETA',\n",
              "       'COBERTURA_NETA_TRANSICIÓN', 'COBERTURA_NETA_PRIMARIA',\n",
              "       'COBERTURA_NETA_SECUNDARIA', 'COBERTURA_NETA_MEDIA', 'COBERTURA_BRUTA',\n",
              "       'COBERTURA_BRUTA_TRANSICIÓN', 'COBERTURA_BRUTA_PRIMARIA',\n",
              "       'COBERTURA_BRUTA_SECUNDARIA', 'COBERTURA_BRUTA_MEDIA',\n",
              "       'TAMAÑO_PROMEDIO_DE_GRUPO', 'SEDES_CONECTADAS_A_INTERNET', 'DESERCIÓN',\n",
              "       'DESERCIÓN_TRANSICIÓN', 'DESERCIÓN_PRIMARIA', 'DESERCIÓN_SECUNDARIA',\n",
              "       'DESERCIÓN_MEDIA', 'APROBACIÓN', 'APROBACIÓN_TRANSICIÓN',\n",
              "       'APROBACIÓN_PRIMARIA', 'APROBACIÓN_SECUNDARIA', 'APROBACIÓN_MEDIA',\n",
              "       'REPROBACIÓN', 'REPROBACIÓN_TRANSICIÓN', 'REPROBACIÓN_PRIMARIA',\n",
              "       'REPROBACIÓN_SECUNDARIA', 'REPROBACIÓN_MEDIA', 'REPITENCIA',\n",
              "       'REPITENCIA_TRANSICIÓN', 'REPITENCIA_PRIMARIA', 'REPITENCIA_SECUNDARIA',\n",
              "       'REPITENCIA_MEDIA'],\n",
              "      dtype='object')"
            ]
          },
          "metadata": {},
          "execution_count": 6
        }
      ],
      "source": [
        "df.columns"
      ]
    },
    {
      "cell_type": "markdown",
      "source": [
        "## **Se filtran las columnas que no son de interes**"
      ],
      "metadata": {
        "id": "LFGzuacIwGhh"
      }
    },
    {
      "cell_type": "code",
      "source": [
        "cols = ['DEPARTAMENTO','DESERCIÓN_MEDIA','APROBACIÓN_MEDIA'];\n",
        "df_model = df[cols]"
      ],
      "metadata": {
        "id": "chp29eQidSgp"
      },
      "execution_count": null,
      "outputs": []
    },
    {
      "cell_type": "markdown",
      "source": [
        "Se remueven las filas que tienen algun campo NaN"
      ],
      "metadata": {
        "id": "wx-N1HkJxI2B"
      }
    },
    {
      "cell_type": "code",
      "source": [
        "df_model = df_model.dropna()"
      ],
      "metadata": {
        "id": "pG9xRPDYxHEu"
      },
      "execution_count": null,
      "outputs": []
    },
    {
      "cell_type": "markdown",
      "source": [
        "Se cambia la columna categorica 'DEPARTAMENTO' por dummies "
      ],
      "metadata": {
        "id": "xiK_JaA7xT17"
      }
    },
    {
      "cell_type": "code",
      "source": [
        "dept = pd.get_dummies(df_model.DEPARTAMENTO, prefix='DEPARTAMENTO')\n",
        "dept.head()\n",
        "df_model = df_model.join(dept)\n",
        "df_model.drop(['DEPARTAMENTO'], axis=1, inplace=True)"
      ],
      "metadata": {
        "id": "Z9GxQSvMdxbf"
      },
      "execution_count": null,
      "outputs": []
    },
    {
      "cell_type": "markdown",
      "source": [
        "Se crea una nueva columna que contendrá lo que consideramos Deserción alta o baja dependiento de el porcentaje que cada fila muestra en 'DESERCIÓN_MEDIA'.\n",
        "\n",
        "Nota: Se usa 4 para determinar si más de eso es deserción alta y menos de eso es deserción baja."
      ],
      "metadata": {
        "id": "hrGLWkL4xdFP"
      }
    },
    {
      "cell_type": "code",
      "source": [
        "df_model['DESERCIÓN_MEDIA_CAT'] = df_model['DESERCIÓN_MEDIA'].map(lambda x: 1 if x>=4 else 0)\n",
        "df_model = df_model.drop(['DESERCIÓN_MEDIA'], axis = 1)"
      ],
      "metadata": {
        "id": "_VI3b0vAxQXB"
      },
      "execution_count": null,
      "outputs": []
    },
    {
      "cell_type": "markdown",
      "source": [
        "## **Se crea el modelo**"
      ],
      "metadata": {
        "id": "T6Hg66FYx35i"
      }
    },
    {
      "cell_type": "markdown",
      "source": [
        "Se definen las variables de entrada y salida"
      ],
      "metadata": {
        "id": "e8lIv8Y-yAJ3"
      }
    },
    {
      "cell_type": "code",
      "source": [
        "X = df_model.drop(['DESERCIÓN_MEDIA_CAT'], axis = 1);\n",
        "y = df_model.DESERCIÓN_MEDIA_CAT.copy();"
      ],
      "metadata": {
        "id": "l_TCor8lfR9J"
      },
      "execution_count": null,
      "outputs": []
    },
    {
      "cell_type": "markdown",
      "source": [
        "Se hace la separación de datos para entrenamiento y datos para validación"
      ],
      "metadata": {
        "id": "wg41aU0zyFhq"
      }
    },
    {
      "cell_type": "code",
      "source": [
        "from sklearn.model_selection import train_test_split\n",
        "X_train, X_val, y_train, y_val = train_test_split(X, y, test_size=0.3)"
      ],
      "metadata": {
        "id": "uTWt2JLOfSl2"
      },
      "execution_count": null,
      "outputs": []
    },
    {
      "cell_type": "code",
      "source": [
        "from sklearn.linear_model import LogisticRegression"
      ],
      "metadata": {
        "id": "Y1eS6AUffT-R"
      },
      "execution_count": null,
      "outputs": []
    },
    {
      "cell_type": "markdown",
      "source": [
        "Se entrena y prueba el modelo\n",
        "\n",
        "Nota: se aumentan las iteraciones por recomendación de la libreria sklearn"
      ],
      "metadata": {
        "id": "3h1Jfr_IyMXx"
      }
    },
    {
      "cell_type": "code",
      "source": [
        "model = LogisticRegression(max_iter=1000)\n",
        "log_mod = model.fit(X_train, y_train)\n",
        "log_mod.score(X_val, y_val)"
      ],
      "metadata": {
        "colab": {
          "base_uri": "https://localhost:8080/"
        },
        "id": "aNRBw0defVBx",
        "outputId": "59197e89-0226-4636-dd2e-0f46f9f47bf8"
      },
      "execution_count": null,
      "outputs": [
        {
          "output_type": "execute_result",
          "data": {
            "text/plain": [
              "0.7597071928707829"
            ]
          },
          "metadata": {},
          "execution_count": 14
        }
      ]
    },
    {
      "cell_type": "markdown",
      "source": [
        "Hacemos 1000 veces el modelo para determinar el score promedio y a varianza."
      ],
      "metadata": {
        "id": "9mrsuEd_ybo5"
      }
    },
    {
      "cell_type": "code",
      "source": [
        "succ = [];\n",
        "for i in range(10):\n",
        "  X_train, X_val, y_train, y_val = train_test_split(X, y, test_size=0.3)\n",
        "  log_mod = LogisticRegression(max_iter=1000).fit(X_train, y_train);\n",
        "  succ.append(log_mod.score(X_val, y_val));\n"
      ],
      "metadata": {
        "id": "QVM7LtDJoogS"
      },
      "execution_count": null,
      "outputs": []
    },
    {
      "cell_type": "code",
      "source": [
        "import seaborn as sns\n",
        "import numpy as np\n",
        "sns.histplot(succ)\n",
        "succ = np.array(succ);"
      ],
      "metadata": {
        "id": "FHL6ertwflKA",
        "colab": {
          "base_uri": "https://localhost:8080/",
          "height": 265
        },
        "outputId": "83f5d5bb-2d18-4020-dbea-42bf72ccf967"
      },
      "execution_count": null,
      "outputs": [
        {
          "output_type": "display_data",
          "data": {
            "text/plain": [
              "<Figure size 432x288 with 1 Axes>"
            ],
            "image/png": "[encoded data removed]"
          },
          "metadata": {
            "needs_background": "light"
          }
        }
      ]
    },
    {
      "cell_type": "code",
      "source": [
        "np.mean(succ)"
      ],
      "metadata": {
        "id": "q0yBJ5FKoAgV",
        "colab": {
          "base_uri": "https://localhost:8080/"
        },
        "outputId": "5ca650eb-206d-4591-ceb9-132070c43023"
      },
      "execution_count": null,
      "outputs": [
        {
          "output_type": "execute_result",
          "data": {
            "text/plain": [
              "0.753341820496499"
            ]
          },
          "metadata": {},
          "execution_count": 17
        }
      ]
    },
    {
      "cell_type": "code",
      "source": [
        "np.var(succ)"
      ],
      "metadata": {
        "id": "_wQj_VjRyReS",
        "colab": {
          "base_uri": "https://localhost:8080/"
        },
        "outputId": "cb1bbca8-f0fe-4369-900c-018a51e5b728"
      },
      "execution_count": null,
      "outputs": [
        {
          "output_type": "execute_result",
          "data": {
            "text/plain": [
              "5.2328952395847385e-05"
            ]
          },
          "metadata": {},
          "execution_count": 18
        }
      ]
    },
    {
      "cell_type": "markdown",
      "source": [
        "# **Comprobar hipotesis**\n",
        "\n",
        "Los municipios mas rurales presentan una mayor tasa de deserción."
      ],
      "metadata": {
        "id": "BSnQ74S17QaE"
      }
    },
    {
      "cell_type": "code",
      "source": [
        "import pandas as pd\n",
        "import numpy as np"
      ],
      "metadata": {
        "id": "evWuCgYlylHb"
      },
      "execution_count": null,
      "outputs": []
    },
    {
      "cell_type": "code",
      "execution_count": null,
      "metadata": {
        "id": "SK0q4nVWu11G"
      },
      "outputs": [],
      "source": [
        "df = pd.read_csv('MEN_ESTADISTICAS_EN_EDUCACION_EN_PREESCOLAR__B_SICA_Y_MEDIA_POR_MUNICIPIO.csv')"
      ]
    },
    {
      "cell_type": "code",
      "source": [
        "# log_mod.predict_proba(X)"
      ],
      "metadata": {
        "id": "YO_zbrWk8PUl"
      },
      "execution_count": null,
      "outputs": []
    },
    {
      "cell_type": "code",
      "source": [
        "cols = ['DEPARTAMENTO','DESERCIÓN_MEDIA','APROBACIÓN_MEDIA'];\n",
        "df_model = df[cols]\n",
        "df_model = df_model.dropna()\n",
        "dept = pd.get_dummies(df_model.DEPARTAMENTO, prefix='DEPARTAMENTO')\n",
        "df_model = df_model[ (df_model['DEPARTAMENTO'] == 'Guainía') | (df_model['DEPARTAMENTO'] == 'Vichada') | (df_model['DEPARTAMENTO'] == 'Vaupés') | (df_model['DEPARTAMENTO'] == 'Putumayo') | (df_model['DEPARTAMENTO'] == 'Bogotá, D.C.') | (df_model['DEPARTAMENTO'] == 'Islas') | (df_model['DEPARTAMENTO'] == 'Atlántico') | (df_model['DEPARTAMENTO'] == 'Caldas')]\n",
        "df_model['Resultado'] = df_model['DEPARTAMENTO'].map(lambda x: 1 if (x=='Guainía' or x=='Vichada' or x=='Vaupés' or x=='Putumayo') else 0)\n",
        "dept.head()\n",
        "df_model = df_model.join(dept)\n",
        "df_model.drop(['DEPARTAMENTO'], axis=1, inplace=True)\n",
        "df_model = df_model.drop(['DESERCIÓN_MEDIA'], axis = 1)\n",
        "X = df_model.drop(['Resultado'], axis = 1);\n",
        "Y = df_model['Resultado']\n",
        "y_pred = log_mod.predict(X)\n",
        "print(len(Y))\n",
        "\n",
        "from sklearn.metrics import confusion_matrix\n",
        "sns.heatmap(confusion_matrix(Y, y_pred, labels=[1, 0])/len(Y), annot = True, cmap = 'Blues')\n",
        "\n"
      ],
      "metadata": {
        "colab": {
          "base_uri": "https://localhost:8080/",
          "height": 300
        },
        "id": "tIKK4K3cu_6C",
        "outputId": "29d2493b-4141-41fa-98e3-2841e13d942b"
      },
      "execution_count": null,
      "outputs": [
        {
          "output_type": "stream",
          "name": "stdout",
          "text": [
            "739\n"
          ]
        },
        {
          "output_type": "execute_result",
          "data": {
            "text/plain": [
              "<matplotlib.axes._subplots.AxesSubplot at 0x7ff2ec6b74d0>"
            ]
          },
          "metadata": {},
          "execution_count": 38
        },
        {
          "output_type": "display_data",
          "data": {
            "text/plain": [
              "<Figure size 432x288 with 2 Axes>"
            ],
            "image/png": "[encoded data removed]"
          },
          "metadata": {
            "needs_background": "light"
          }
        }
      ]
    },
    {
      "cell_type": "code",
      "source": [
        ""
      ],
      "metadata": {
        "id": "05Aic7NoyO-L"
      },
      "execution_count": null,
      "outputs": []
    }
  ],
  "metadata": {
    "colab": {
      "collapsed_sections": [],
      "name": "ModeloOpt.ipynb",
      "provenance": []
    },
    "kernelspec": {
      "display_name": "Python 3",
      "name": "python3"
    },
    "language_info": {
      "name": "python"
    }
  },
  "nbformat": 4,
  "nbformat_minor": 0
}